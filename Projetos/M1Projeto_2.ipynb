{
  "nbformat": 4,
  "nbformat_minor": 0,
  "metadata": {
    "colab": {
      "name": "Projeto_2.ipynb",
      "provenance": [],
      "authorship_tag": "ABX9TyMefYaDoYKu+C5izmuSkok5"
    },
    "kernelspec": {
      "name": "python3",
      "display_name": "Python 3"
    },
    "language_info": {
      "name": "python"
    }
  },
  "cells": [
    {
      "cell_type": "markdown",
      "source": [
        "# Projeto 2"
      ],
      "metadata": {
        "id": "2r84Y34F9DpX"
      }
    },
    {
      "cell_type": "markdown",
      "source": [
        "## Contexto\n",
        "Imagine que você tenha uma empresa que vende flores de íris. Dessa forma, em algum momento as flores são colhidas e separadas para a venda. Porém, existem três espécies: Setosa, Versicolor e Virginica.<br>\n",
        "Dado este contexto, surge a necessidade de identificar cada uma destas espécies para vendê-las de modo separado. Para isso, será utilizada uma máquina que captura as medidas das sépalas e pétalas das flores. A partir destas medidas, um modelo já treinado, por meio de dados históricos, irá classificar o tipo da espécie para a máquina separar corretamente.<br>\n",
        "A técnica de machine learning utilizada para treinar o modelo de predição foi o modelo de Árvore de Decisão. Este modelo cria uma espécie de fluxograma para classificar as flores, por meio de suas medidas. No final do processo de desenvolvimento, dois modelos foram considerados para entrar em produção, os mesmos se diferem na altura da árvore de decisão criada. Para definir qual modelo será utilizado, novas flores serão separadas por meio dos dois modelos, e o modelo que tiver uma melhor performance será escolhido.\n",
        "\n",
        "## Dicionário de dados\n",
        "Variável  | Tipo | Unidade de Medida | Valores\n",
        "----------|------|-------------------|--------\n",
        "sepal length (cm) | Quantitativa continua | <center>cm | 4.3; 4.4; ... ; 7.9\n",
        "sepal width (cm) | Quantitativa continua | <center>cm | 2.0; 2.2; ... ; 4.4\n",
        "petal length (cm) | Quantitativa continua |<center>cm | 1.0; 1.1; ... ; 6.9\n",
        "petal width (cm) | Quantitativa continua | <center>cm | 0.1; 0.2; ...; 2.5\n",
        "<center>target | Quantitativa discreta | | <center>0,1,2\n",
        "\n"
      ],
      "metadata": {
        "id": "c04KtvSn9mig"
      }
    },
    {
      "cell_type": "markdown",
      "source": [
        "## Modelos e classificação"
      ],
      "metadata": {
        "id": "5TnsxWhs9-QB"
      }
    },
    {
      "cell_type": "markdown",
      "source": [
        "### Bibliotecas\n",
        "\n",
        "As bibliotecas importadas são pandas, numpy e sklearn. Sklearn e numpy são utilizados exclusivamente para a importação dos dados das flores. A biblioteca pandas é utilizada para criação de um dataframe com os dados do dataset e sua manipulação."
      ],
      "metadata": {
        "id": "_LMFQzg0TBBh"
      }
    },
    {
      "cell_type": "code",
      "source": [
        "from sklearn import datasets # Blioteca necessaria para importar o dataset iris\n",
        "import pandas as pd # Biblioteca utilizada para manipulação dos dados de iris\n",
        "import numpy as np # Blioteca necessaria para importar o dataset iris"
      ],
      "metadata": {
        "id": "1imvcMrTS1-0"
      },
      "execution_count": 1,
      "outputs": []
    },
    {
      "cell_type": "markdown",
      "source": [
        "### Implementação dos modelos\n",
        "\n",
        "As funções de classificação são feitas baseadas nos modelos de *Decision Trees* apresentadas. As ramificações de uma arvore de decisão são facilmente representadas pela estrutura condicional \"if\", resultando em estruturas \"if\" contidas dentro de outras estruturas \"if\".<br>\n",
        "\n",
        "A função 'modelo_1' utiliza a Árvore de Decisão 1 e a função 'modelo_2' utiliza a Árvore de Decisão 2. "
      ],
      "metadata": {
        "id": "9kLr3-3iS3fj"
      }
    },
    {
      "cell_type": "code",
      "execution_count": 2,
      "metadata": {
        "id": "4g8NmZTX63C_"
      },
      "outputs": [],
      "source": [
        "# Funções de classificação das flores, 0 = setosa, 1 = versicolor, 2 = virginica\n",
        "\n",
        "def modelo_1(petal_length,petal_width,sepal_width):\n",
        "  if petal_length <= 2.45:\n",
        "    return 0\n",
        "\n",
        "  elif petal_width <= 1.75:\n",
        "    if petal_length <= 4.95:\n",
        "      if petal_width <= 1.65:\n",
        "        return 1\n",
        "      else:\n",
        "        return 2      \n",
        "\n",
        "    elif petal_width <= 1.55:\n",
        "      return 2\n",
        "    \n",
        "    else:\n",
        "      return 1\n",
        "\n",
        "  elif petal_length <= 4.85:\n",
        "    if sepal_width <= 3.1:\n",
        "      return 2\n",
        "    else:\n",
        "      return 1\n",
        "\n",
        "  else:\n",
        "    return 2\n",
        "\n",
        "\n",
        "# Função modelo_2 é ajustada para utilização do método apply() do pandas\n",
        "\n",
        "def modelo_2(x):\n",
        "  if x['petal length (cm)'] <= 2.45:\n",
        "    return 0\n",
        "\n",
        "  elif x['petal width (cm)'] <= 1.75:\n",
        "    return 1\n",
        "\n",
        "  else:\n",
        "    return 2\n"
      ]
    },
    {
      "cell_type": "markdown",
      "source": [
        "### Importação do dataset\n",
        "\n",
        "As bibliotecas numpy e sklearn são utilizadas para importação dos dados de iris."
      ],
      "metadata": {
        "id": "dyF1z_X8aboy"
      }
    },
    {
      "cell_type": "code",
      "source": [
        "iris = datasets.load_iris()\n",
        "dados = pd.DataFrame(data=np.c_[iris['data'], iris['target']],\n",
        "                     columns= iris['feature_names'] + ['target'])"
      ],
      "metadata": {
        "id": "N_j0arKeS0Tu"
      },
      "execution_count": 3,
      "outputs": []
    },
    {
      "cell_type": "code",
      "source": [
        "dados.head()"
      ],
      "metadata": {
        "id": "8_uht0TRTB9j",
        "outputId": "49aafc1f-37d8-4de0-bc59-7735e5ec10dc",
        "colab": {
          "base_uri": "https://localhost:8080/",
          "height": 206
        }
      },
      "execution_count": 4,
      "outputs": [
        {
          "output_type": "execute_result",
          "data": {
            "text/plain": [
              "   sepal length (cm)  sepal width (cm)  petal length (cm)  petal width (cm)  \\\n",
              "0                5.1               3.5                1.4               0.2   \n",
              "1                4.9               3.0                1.4               0.2   \n",
              "2                4.7               3.2                1.3               0.2   \n",
              "3                4.6               3.1                1.5               0.2   \n",
              "4                5.0               3.6                1.4               0.2   \n",
              "\n",
              "   target  \n",
              "0     0.0  \n",
              "1     0.0  \n",
              "2     0.0  \n",
              "3     0.0  \n",
              "4     0.0  "
            ],
            "text/html": [
              "\n",
              "  <div id=\"df-2d2928e9-e770-4de3-a1d3-8c2693c4d0ab\">\n",
              "    <div class=\"colab-df-container\">\n",
              "      <div>\n",
              "<style scoped>\n",
              "    .dataframe tbody tr th:only-of-type {\n",
              "        vertical-align: middle;\n",
              "    }\n",
              "\n",
              "    .dataframe tbody tr th {\n",
              "        vertical-align: top;\n",
              "    }\n",
              "\n",
              "    .dataframe thead th {\n",
              "        text-align: right;\n",
              "    }\n",
              "</style>\n",
              "<table border=\"1\" class=\"dataframe\">\n",
              "  <thead>\n",
              "    <tr style=\"text-align: right;\">\n",
              "      <th></th>\n",
              "      <th>sepal length (cm)</th>\n",
              "      <th>sepal width (cm)</th>\n",
              "      <th>petal length (cm)</th>\n",
              "      <th>petal width (cm)</th>\n",
              "      <th>target</th>\n",
              "    </tr>\n",
              "  </thead>\n",
              "  <tbody>\n",
              "    <tr>\n",
              "      <th>0</th>\n",
              "      <td>5.1</td>\n",
              "      <td>3.5</td>\n",
              "      <td>1.4</td>\n",
              "      <td>0.2</td>\n",
              "      <td>0.0</td>\n",
              "    </tr>\n",
              "    <tr>\n",
              "      <th>1</th>\n",
              "      <td>4.9</td>\n",
              "      <td>3.0</td>\n",
              "      <td>1.4</td>\n",
              "      <td>0.2</td>\n",
              "      <td>0.0</td>\n",
              "    </tr>\n",
              "    <tr>\n",
              "      <th>2</th>\n",
              "      <td>4.7</td>\n",
              "      <td>3.2</td>\n",
              "      <td>1.3</td>\n",
              "      <td>0.2</td>\n",
              "      <td>0.0</td>\n",
              "    </tr>\n",
              "    <tr>\n",
              "      <th>3</th>\n",
              "      <td>4.6</td>\n",
              "      <td>3.1</td>\n",
              "      <td>1.5</td>\n",
              "      <td>0.2</td>\n",
              "      <td>0.0</td>\n",
              "    </tr>\n",
              "    <tr>\n",
              "      <th>4</th>\n",
              "      <td>5.0</td>\n",
              "      <td>3.6</td>\n",
              "      <td>1.4</td>\n",
              "      <td>0.2</td>\n",
              "      <td>0.0</td>\n",
              "    </tr>\n",
              "  </tbody>\n",
              "</table>\n",
              "</div>\n",
              "      <button class=\"colab-df-convert\" onclick=\"convertToInteractive('df-2d2928e9-e770-4de3-a1d3-8c2693c4d0ab')\"\n",
              "              title=\"Convert this dataframe to an interactive table.\"\n",
              "              style=\"display:none;\">\n",
              "        \n",
              "  <svg xmlns=\"http://www.w3.org/2000/svg\" height=\"24px\"viewBox=\"0 0 24 24\"\n",
              "       width=\"24px\">\n",
              "    <path d=\"M0 0h24v24H0V0z\" fill=\"none\"/>\n",
              "    <path d=\"M18.56 5.44l.94 2.06.94-2.06 2.06-.94-2.06-.94-.94-2.06-.94 2.06-2.06.94zm-11 1L8.5 8.5l.94-2.06 2.06-.94-2.06-.94L8.5 2.5l-.94 2.06-2.06.94zm10 10l.94 2.06.94-2.06 2.06-.94-2.06-.94-.94-2.06-.94 2.06-2.06.94z\"/><path d=\"M17.41 7.96l-1.37-1.37c-.4-.4-.92-.59-1.43-.59-.52 0-1.04.2-1.43.59L10.3 9.45l-7.72 7.72c-.78.78-.78 2.05 0 2.83L4 21.41c.39.39.9.59 1.41.59.51 0 1.02-.2 1.41-.59l7.78-7.78 2.81-2.81c.8-.78.8-2.07 0-2.86zM5.41 20L4 18.59l7.72-7.72 1.47 1.35L5.41 20z\"/>\n",
              "  </svg>\n",
              "      </button>\n",
              "      \n",
              "  <style>\n",
              "    .colab-df-container {\n",
              "      display:flex;\n",
              "      flex-wrap:wrap;\n",
              "      gap: 12px;\n",
              "    }\n",
              "\n",
              "    .colab-df-convert {\n",
              "      background-color: #E8F0FE;\n",
              "      border: none;\n",
              "      border-radius: 50%;\n",
              "      cursor: pointer;\n",
              "      display: none;\n",
              "      fill: #1967D2;\n",
              "      height: 32px;\n",
              "      padding: 0 0 0 0;\n",
              "      width: 32px;\n",
              "    }\n",
              "\n",
              "    .colab-df-convert:hover {\n",
              "      background-color: #E2EBFA;\n",
              "      box-shadow: 0px 1px 2px rgba(60, 64, 67, 0.3), 0px 1px 3px 1px rgba(60, 64, 67, 0.15);\n",
              "      fill: #174EA6;\n",
              "    }\n",
              "\n",
              "    [theme=dark] .colab-df-convert {\n",
              "      background-color: #3B4455;\n",
              "      fill: #D2E3FC;\n",
              "    }\n",
              "\n",
              "    [theme=dark] .colab-df-convert:hover {\n",
              "      background-color: #434B5C;\n",
              "      box-shadow: 0px 1px 3px 1px rgba(0, 0, 0, 0.15);\n",
              "      filter: drop-shadow(0px 1px 2px rgba(0, 0, 0, 0.3));\n",
              "      fill: #FFFFFF;\n",
              "    }\n",
              "  </style>\n",
              "\n",
              "      <script>\n",
              "        const buttonEl =\n",
              "          document.querySelector('#df-2d2928e9-e770-4de3-a1d3-8c2693c4d0ab button.colab-df-convert');\n",
              "        buttonEl.style.display =\n",
              "          google.colab.kernel.accessAllowed ? 'block' : 'none';\n",
              "\n",
              "        async function convertToInteractive(key) {\n",
              "          const element = document.querySelector('#df-2d2928e9-e770-4de3-a1d3-8c2693c4d0ab');\n",
              "          const dataTable =\n",
              "            await google.colab.kernel.invokeFunction('convertToInteractive',\n",
              "                                                     [key], {});\n",
              "          if (!dataTable) return;\n",
              "\n",
              "          const docLinkHtml = 'Like what you see? Visit the ' +\n",
              "            '<a target=\"_blank\" href=https://colab.research.google.com/notebooks/data_table.ipynb>data table notebook</a>'\n",
              "            + ' to learn more about interactive tables.';\n",
              "          element.innerHTML = '';\n",
              "          dataTable['output_type'] = 'display_data';\n",
              "          await google.colab.output.renderOutput(dataTable, element);\n",
              "          const docLink = document.createElement('div');\n",
              "          docLink.innerHTML = docLinkHtml;\n",
              "          element.appendChild(docLink);\n",
              "        }\n",
              "      </script>\n",
              "    </div>\n",
              "  </div>\n",
              "  "
            ]
          },
          "metadata": {},
          "execution_count": 4
        }
      ]
    },
    {
      "cell_type": "markdown",
      "source": [
        "### Classificação pelo modelo 1\n",
        "\n",
        "A função 'modelo_1' foi aplicada utilizando um laço de repetição. A estrutura de repetição \"for\" é utilizada para percorrer os valores do indice do Dataframe já que o indice é estrturado de forma linear. O indice varia de 0 até 149 com o intervalo de 1 entre seus elementos.<br>\n",
        "O vetor \"classificação_1\" é utilizado para guardar os valores obtidos da função de classificação.<br>\n",
        "\n",
        "Dentro do \"for\", a função 'modelo_1' é alimentada com dados do dataframe e a cada iteração temos a classificação para uma planta.<br>\n",
        "\n",
        "Os valores da classificação são inseridos numa nova coluna chamada 'previsão_1' no dataframe."
      ],
      "metadata": {
        "id": "iP4d0VK_a1zV"
      }
    },
    {
      "cell_type": "code",
      "source": [
        "classificação_1 = []\n",
        "\n",
        "# Percorre todos os indices do dataframe\n",
        "\n",
        "for i in dados.index:\n",
        "  classificação_1.append(modelo_1(dados['petal length (cm)'][i],dados['petal width (cm)'][i],dados['sepal width (cm)'][i])) # Classifica linha a linha do Dataframe\n",
        "\n",
        "dados['previsão_1'] = classificação_1\n",
        "dados['previsão_1'].head()"
      ],
      "metadata": {
        "colab": {
          "base_uri": "https://localhost:8080/"
        },
        "id": "fBpRLGj3zq3n",
        "outputId": "b83506b6-ad46-493b-c15e-fdd73fe8c044"
      },
      "execution_count": 5,
      "outputs": [
        {
          "output_type": "execute_result",
          "data": {
            "text/plain": [
              "0    0\n",
              "1    0\n",
              "2    0\n",
              "3    0\n",
              "4    0\n",
              "Name: previsão_1, dtype: int64"
            ]
          },
          "metadata": {},
          "execution_count": 5
        }
      ]
    },
    {
      "cell_type": "code",
      "source": [
        "dados['previsão_1'].value_counts()"
      ],
      "metadata": {
        "colab": {
          "base_uri": "https://localhost:8080/"
        },
        "id": "lhfsnTENeJBZ",
        "outputId": "a85b4656-0187-4cc8-d077-c7315f8515d7"
      },
      "execution_count": 6,
      "outputs": [
        {
          "output_type": "execute_result",
          "data": {
            "text/plain": [
              "1    51\n",
              "0    50\n",
              "2    49\n",
              "Name: previsão_1, dtype: int64"
            ]
          },
          "metadata": {},
          "execution_count": 6
        }
      ]
    },
    {
      "cell_type": "markdown",
      "source": [
        "### Classificação pelo modelo 2\n",
        "A função 'modelo_2' foi aplicada utilizando o metodo \"apply()\" presente no pandas. O método \"apply()\" aplica uma função ao longo de todo um eixo (linha ou coluna) do dataframe.<br>\n",
        "\n",
        "O vetor \"classificação_2\" é utilizado para guardar os valores obtidos da função de classificação.<br>\n",
        "\n",
        "Os valores da classificação são inseridos numa nova coluna chamada 'previsão_2' no dataframe."
      ],
      "metadata": {
        "id": "_ClhqbwdeSqe"
      }
    },
    {
      "cell_type": "code",
      "source": [
        "classificação_2 = dados.apply(modelo_2,axis = 1)\n",
        "dados['previsão_2'] = classificação_2\n",
        "dados['previsão_2'].head()"
      ],
      "metadata": {
        "id": "FPOVFpvftevS",
        "colab": {
          "base_uri": "https://localhost:8080/"
        },
        "outputId": "3c0189d9-a823-4458-8cb1-e2f7554436d9"
      },
      "execution_count": 7,
      "outputs": [
        {
          "output_type": "execute_result",
          "data": {
            "text/plain": [
              "0    0\n",
              "1    0\n",
              "2    0\n",
              "3    0\n",
              "4    0\n",
              "Name: previsão_2, dtype: int64"
            ]
          },
          "metadata": {},
          "execution_count": 7
        }
      ]
    },
    {
      "cell_type": "code",
      "source": [
        "dados['previsão_2'].value_counts()"
      ],
      "metadata": {
        "colab": {
          "base_uri": "https://localhost:8080/"
        },
        "id": "00KPS81vqGoR",
        "outputId": "f13a050e-aadf-4463-869b-e2cd2d112775"
      },
      "execution_count": 8,
      "outputs": [
        {
          "output_type": "execute_result",
          "data": {
            "text/plain": [
              "1    54\n",
              "0    50\n",
              "2    46\n",
              "Name: previsão_2, dtype: int64"
            ]
          },
          "metadata": {},
          "execution_count": 8
        }
      ]
    },
    {
      "cell_type": "markdown",
      "source": [
        "### Métrica de avaliação: Acurácia\n",
        "\n",
        "A acurácia é uma boa indicação geral de como o modelo performou. A acuracia leva em conta o total de classificações corretas sobre o total de classificações.<br>\n",
        "\n",
        "$Acuracia=\\frac {Corretas}{Total}$ <br>\n",
        "\n",
        "As classificações corretas são obtidas através de comparações entre os valores da coluna 'previsão_1' (e também 'previsão_2') em relação aos valores da coluna 'target', a quantidade de valores iguais indica o total de avaliações corretas de cada modelo. O metodo sum() do pandas é utilizado para somar o valor de todas as linhas, já que estamos tratando de valores booleanos (True ou False, que o Python interpreta como 1 ou 0) a soma será igual a contagem total de valores que obedecem a condição estabelecida.<br>\n",
        "\n",
        "O total de avaliações pode ser adquirido de diversas formas, uma dessas formas é através do método count(), ao contar o numero de previsões realizadas temos o numero de classificações feitas. Com isso, basta uma divisão para definir o acurácia de cada um dos modelos."
      ],
      "metadata": {
        "id": "-TnebFJ01idl"
      }
    },
    {
      "cell_type": "code",
      "source": [
        "print(f\"O modelo classificou corretamente: {(dados['previsão_1'] == dados['target']).sum()} iris\")\n",
        "print(f\"De um total de: {dados['previsão_1'].count()} iris\")\n",
        "acuracia_modelo1 = (dados['previsão_1'] == dados['target']).sum()/dados['previsão_1'].count()\n",
        "print(f\"A acurácia do modelo 1 é: {round(acuracia_modelo1,2)}\\n\\n--------------------- \\n\")\n",
        "\n",
        "print(f\"O modelo classificou corretamente: {(dados['previsão_2'] == dados['target']).sum()} iris\")\n",
        "print(f\"De um total de: {dados['previsão_2'].count()} iris\")\n",
        "acuracia_modelo2 = (dados['previsão_2'] == dados['target']).sum()/dados['previsão_2'].count()\n",
        "print(f\"A acurácia do modelo 2 é: {round(acuracia_modelo2,2)}\")"
      ],
      "metadata": {
        "colab": {
          "base_uri": "https://localhost:8080/"
        },
        "id": "Zrcph_8cMX3y",
        "outputId": "bca66d30-bdd9-4e68-fd94-80482ab67b95"
      },
      "execution_count": 9,
      "outputs": [
        {
          "output_type": "stream",
          "name": "stdout",
          "text": [
            "O modelo classificou corretamente: 149 iris\n",
            "De um total de: 150 iris\n",
            "A acurácia do modelo 1 é: 0.99\n",
            "\n",
            "--------------------- \n",
            "\n",
            "O modelo classificou corretamente: 144 iris\n",
            "De um total de: 150 iris\n",
            "A acurácia do modelo 2 é: 0.96\n"
          ]
        }
      ]
    },
    {
      "cell_type": "markdown",
      "source": [
        "### Dificuldade de classificação\n",
        "\n",
        "Quando refletimos sobre os dados e a estrutura dos modelos de classificação podemos tirar algumas conclusões. Por exemplo, as Iris Setosa apresentam os menores valores de 'petal_length (cm)' sendo possível as diferenciar completamente do resto das amostras. Dessa forma, podemos imaginar que a performance do modelo varie de acordo com a especie de iris. <br>\n",
        "As plantas avaliadas corretamente são obtidas quando filtramos pelas flores que apresentem o mesmo valor de 'previsão' e 'target'.<br>\n",
        "Das flores classificadas corretamente e do numero total de flores de determinada espécie, é possivel descobrir a flor com pior taxa de acerto entre os modelos."
      ],
      "metadata": {
        "id": "S6SVh0c4HS91"
      }
    },
    {
      "cell_type": "code",
      "source": [
        "print(f\"Total 'target' == 0 (setosa) = {dados['target'][dados['target'] == 0].count()}\\n\")\n",
        "print(\"Para o modelo 1:\")\n",
        "print(f\"Classificações totais: {dados.query('previsão_1 == 0')['previsão_1'].count()}\")\n",
        "print(f\"Classificações corretas: {dados.query('previsão_1 == 0 & target == 0')['previsão_1'].count()}\\n\")\n",
        "print(\"Para o modelo 2:\")\n",
        "print(f\"Classificações totais: {dados.query('previsão_2 == 0')['previsão_2'].count()}\")\n",
        "print(f\"Classificações corretas: {dados.query('previsão_2 == 0 & target == 0')['previsão_2'].count()}\")"
      ],
      "metadata": {
        "colab": {
          "base_uri": "https://localhost:8080/"
        },
        "id": "0cVriw9W7HMZ",
        "outputId": "f549bbad-ff4c-4203-f8d4-fe2701e4bf81"
      },
      "execution_count": 10,
      "outputs": [
        {
          "output_type": "stream",
          "name": "stdout",
          "text": [
            "Total 'target' == 0 (setosa) = 50\n",
            "\n",
            "Para o modelo 1:\n",
            "Classificações totais: 50\n",
            "Classificações corretas: 50\n",
            "\n",
            "Para o modelo 2:\n",
            "Classificações totais: 50\n",
            "Classificações corretas: 50\n"
          ]
        }
      ]
    },
    {
      "cell_type": "code",
      "source": [
        "print(f\"Total 'target' == 1 (versicolor) = {dados['target'][dados['target'] == 1].count()}\\n\")\n",
        "print(\"Para o modelo 1:\")\n",
        "print(f\"Classificações totais: {dados.query('previsão_1 == 1')['previsão_1'].count()}\")\n",
        "print(f\"Classificações corretas: {dados.query('previsão_1 == 1 & target == 1')['previsão_1'].count()}\\n\")\n",
        "print(\"Para o modelo 2:\")\n",
        "print(f\"Classificações totais: {dados.query('previsão_2 == 1')['previsão_2'].count()}\")\n",
        "print(f\"Classificações corretas: {dados.query('previsão_2 == 1 & target == 1')['previsão_2'].count()}\")"
      ],
      "metadata": {
        "colab": {
          "base_uri": "https://localhost:8080/"
        },
        "id": "SIbNxska7ic8",
        "outputId": "6d1b5d89-b646-41ee-a10d-b9bd936b3efe"
      },
      "execution_count": 11,
      "outputs": [
        {
          "output_type": "stream",
          "name": "stdout",
          "text": [
            "Total 'target' == 1 (versicolor) = 50\n",
            "\n",
            "Para o modelo 1:\n",
            "Classificações totais: 51\n",
            "Classificações corretas: 50\n",
            "\n",
            "Para o modelo 2:\n",
            "Classificações totais: 54\n",
            "Classificações corretas: 49\n"
          ]
        }
      ]
    },
    {
      "cell_type": "code",
      "source": [
        "print(f\"Total 'target' == 2 (virginica) = {dados['target'][dados['target'] == 2].count()}\\n\")\n",
        "print(\"Para o modelo 1:\")\n",
        "print(f\"Classificações totais: {dados.query('previsão_1 == 2')['previsão_1'].count()}\")\n",
        "print(f\"Classificações corretas: {dados.query('previsão_1 == 2 & target == 2')['previsão_1'].count()}\\n\")\n",
        "print(\"Para o modelo 2:\")\n",
        "print(f\"Classificações totais: {dados.query('previsão_2 == 2')['previsão_2'].count()}\")\n",
        "print(f\"Classificações corretas: {dados.query('previsão_2 == 2 & target == 2')['previsão_2'].count()}\")"
      ],
      "metadata": {
        "colab": {
          "base_uri": "https://localhost:8080/"
        },
        "id": "tQviVgbCUWab",
        "outputId": "0921454a-31d8-4411-8bfa-5c09f9089402"
      },
      "execution_count": 12,
      "outputs": [
        {
          "output_type": "stream",
          "name": "stdout",
          "text": [
            "Total 'target' == 2 (virginica) = 50\n",
            "\n",
            "Para o modelo 1:\n",
            "Classificações totais: 49\n",
            "Classificações corretas: 49\n",
            "\n",
            "Para o modelo 2:\n",
            "Classificações totais: 46\n",
            "Classificações corretas: 45\n"
          ]
        }
      ]
    },
    {
      "cell_type": "markdown",
      "source": [
        "Como esperado, os erros estão concentrados nas Iris Versicolor e Virginica. Para descobrir a flor com mais erros temos que verificar qual flor possui classificações diferentes de seu valor real.<br>\n",
        "\n",
        "A lógica aplicada é simples, entre as flores com certo 'target' basta encontrar quantas possuem um valor de 'target' DIFERENTE do valor de 'previsão', assim podemos descobrir quantas flores mal classificadas estão presentes em cada especies. Lembrando que a Iris Setosa é excluida desta analise já que ambos os modelos classificam bem a especie."
      ],
      "metadata": {
        "id": "Wyap1N_-XDo2"
      }
    },
    {
      "cell_type": "code",
      "source": [
        "print(f\"Total de Versicolor mal classificadas (modelo 1): {dados.query('previsão_1 != target & target == 1')['target'].count()}\")\n",
        "print(f\"Total de Virginica mal classificadas (modelo 1): {dados.query('previsão_1 != target & target == 2')['target'].count()}\\n\")\n",
        "print(f\"Total de Versicolor mal classificadas (modelo 2): {dados.query('previsão_2 != target & target == 1')['target'].count()}\")\n",
        "print(f\"Total de Virginica mal classificadas (modelo 2): {dados.query('previsão_2 != target & target == 2')['target'].count()}\")"
      ],
      "metadata": {
        "colab": {
          "base_uri": "https://localhost:8080/"
        },
        "id": "eEFQlQmXX1my",
        "outputId": "5378cc04-3028-49f5-8b07-8ed6754a1e51"
      },
      "execution_count": 13,
      "outputs": [
        {
          "output_type": "stream",
          "name": "stdout",
          "text": [
            "Total de Versicolor mal classificadas (modelo 1): 0\n",
            "Total de Virginica mal classificadas (modelo 1): 1\n",
            "\n",
            "Total de Versicolor mal classificadas (modelo 2): 1\n",
            "Total de Virginica mal classificadas (modelo 2): 5\n"
          ]
        }
      ]
    },
    {
      "cell_type": "markdown",
      "source": [
        "Podemos concluir que os dois modelos possuem mais problemas em classificar a Iris Virgnica."
      ],
      "metadata": {
        "id": "-HsQPRxgazka"
      }
    },
    {
      "cell_type": "markdown",
      "source": [
        "### Conclusão: Qual o melhor modelo\n",
        "\n",
        "Com todas as comparações apresentadas, o modelo 1 apresenta melhores resultados relacionados a performance. Sua acurácia é de 0.99 enquanto o modelo 2 entrega uma acurácia de 0.96. <br>\n",
        "\n",
        "Quando analisamos a capacidade dos modelos de classificar cada uma das especies, também notamos um melhor resultado no modelo 1, que apesar de cometer erros em sua classificação, apresenta um resultado muito superior quando comparado ao modelo 2. Sendo assim, recomenda-se a aplicação do modelo 1."
      ],
      "metadata": {
        "id": "lrre_L-HcDyM"
      }
    }
  ]
}

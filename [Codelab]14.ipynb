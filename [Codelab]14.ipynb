{
  "nbformat": 4,
  "nbformat_minor": 0,
  "metadata": {
    "colab": {
      "name": "[Codelab]14.ipynb",
      "provenance": [],
      "collapsed_sections": [],
      "authorship_tag": "ABX9TyP+3rT+1+Ut4C6WGO+UVOc0"
    },
    "kernelspec": {
      "name": "python3",
      "display_name": "Python 3"
    },
    "language_info": {
      "name": "python"
    }
  },
  "cells": [
    {
      "cell_type": "markdown",
      "source": [
        "1. Peça ao usuário uma palavra e a devolva com as letras ao contrário. Caso a palavra seja a mesma nos dois sentidos, imprima uma mensagem dizendo que é um palíndromo."
      ],
      "metadata": {
        "id": "okwu1kL8WKio"
      }
    },
    {
      "cell_type": "code",
      "execution_count": null,
      "metadata": {
        "id": "mfA_aiyjWFIY"
      },
      "outputs": [],
      "source": [
        "\"\"\"\n",
        "1. Peça ao usuário uma palavra e a devolva com as letras ao contrário. Caso a palavra seja a mesma nos dois sentidos, imprima uma mensagem dizendo que é um palíndromo.\n",
        "\"\"\"\n",
        "\n",
        "palavra = input('Insira a palavra: ').strip().lower()\n",
        "palavra_inv = []\n",
        "\n",
        "for i in range(len(palavra)):\n",
        "  palavra_inv.append(palavra[len(palavra)-1-i]) # Cria lista de caracteres invertidos \n",
        "\n",
        "palavra_inv = \"\".join(palavra_inv) # Transforma a lista em string\n",
        "\n",
        "if palavra == palavra_inv:\n",
        "  print(f'{palavra.capitalize()} é um palíndromo')\n",
        "else:\n",
        "  print(f'{palavra.capitalize()} não é um palíndromo')"
      ]
    },
    {
      "cell_type": "markdown",
      "source": [
        "2. Peça ao usuário uma palavra, coloque todas as letras em caixa baixa e, depois, cada vogal na palavra deve ser convertido para letra maiúscula."
      ],
      "metadata": {
        "id": "HI0FydBBZhTO"
      }
    },
    {
      "cell_type": "code",
      "source": [
        "\"\"\"\n",
        "2. Peça ao usuário uma palavra, coloque todas as letras em caixa baixa e, depois, cada vogal na palavra deve ser convertido para letra maiúscula.\n",
        "\"\"\"\n",
        "\n",
        "palavra = list(input('Insira a palavra: ').strip().lower())\n",
        "\n",
        "for i in range(len(palavra)):\n",
        "  letra = palavra[i]\n",
        "  if letra == 'a' or letra == 'e' or letra == 'i' or letra == 'o' or letra == 'u':\n",
        "    palavra[i] = palavra[i].upper() # Verifica as vogais e substitui por sua versão maiúscula\n",
        "\n",
        "palavra = ''.join(palavra)\n",
        "print(palavra)"
      ],
      "metadata": {
        "id": "B8KW9N7nZj1K"
      },
      "execution_count": null,
      "outputs": []
    },
    {
      "cell_type": "markdown",
      "source": [
        "3. Peça ao usuário uma palavra e exiba três mensagens, na primeira deve conter todas as letras digitadas na palavra, na segunda todos os números e na terceira o que não for nem letra e nem número."
      ],
      "metadata": {
        "id": "MYB8FEUlb43O"
      }
    },
    {
      "cell_type": "code",
      "source": [
        "\"\"\"\n",
        "3. Peça ao usuário uma palavra e exiba três mensagens, na primeira deve conter todas as letras digitadas na palavra, na segunda todos os números e na terceira o que não for nem letra e nem número.\n",
        "\"\"\"\n",
        "\n",
        "palavra = list(input('Insira a palavra: ').strip())\n",
        "letras = []\n",
        "numeros = []\n",
        "neno = []\n",
        "\n",
        "for i in range(len(palavra)):\n",
        "  if palavra[i].isnumeric():   # Verifica e adiciona os numeros ao vetor de numeros\n",
        "    numeros.append(palavra[i]) \n",
        "  elif palavra[i].isalpha():  # Verifica e adiciona as palavras ao vetor de palavras\n",
        "    letras.append(palavra[i])\n",
        "  else:                       # O que resta é considerado caractere especial\n",
        "    neno.append(palavra[i])\n",
        "\n",
        "letras = ''.join(letras)\n",
        "numeros = ''.join(numeros)\n",
        "neno = ''.join(neno)\n",
        "print(f'O conjunto de letras é: {letras}')\n",
        "print(f'O conjunto de numeros é: {numeros}')\n",
        "print(f'O conjunto de nem uma nem outra é: {neno}')"
      ],
      "metadata": {
        "id": "akm1-kx_b7LR"
      },
      "execution_count": null,
      "outputs": []
    },
    {
      "cell_type": "markdown",
      "source": [
        "4. Pergunte ao usuário quantos números serão digitados, depois exiba a soma deles, a média, o menor, o maior, quantos números pares e quantos números ímpares foram digitados. Utilize o 0 como critério de parada."
      ],
      "metadata": {
        "id": "aFxHHg-zd4Uf"
      }
    },
    {
      "cell_type": "code",
      "source": [
        "\"\"\"\n",
        "4. Pergunte ao usuário quantos números serão digitados, depois exiba a soma deles, a média, o menor, o maior, quantos números pares e quantos números ímpares foram digitados. Utilize o 0 como critério de parada.\n",
        "\"\"\"\n",
        "\n",
        "num_qtd = int(input(\"Quantos numeros serão digitados? \"))\n",
        "count = 0\n",
        "num = []\n",
        "soma = 0\n",
        "par = 0\n",
        "impar = 0\n",
        "\n",
        "while num_qtd > count: # Laço para inserir a quantidade de numeros digitados\n",
        "  num.append(int(input(f\"Insira o {count+1}° numero: \")))\n",
        "  count += 1\n",
        "\n",
        "for i in range(len(num)):\n",
        "  soma += num[i] # Soma todos os números, também será util para média\n",
        "  if num[i] % 2 == 0: # Como são numeros inteiros, ou é par ou é impar\n",
        "    par += 1\n",
        "  else:\n",
        "    impar += 1\n",
        "\n",
        "num.sort() #Organiza o vetor para encontrar a mediana\n",
        "\n",
        "print(f'A soma é: {soma}')\n",
        "print(f'A média é: {soma/num_qtd}')\n",
        "print(f'O máximo é: {max(num)}')\n",
        "print(f'O mínimo é: {min(num)}')\n",
        "print(f'O numero de pares é: {par}')\n",
        "print(f'O numero de impares é: {impar}')"
      ],
      "metadata": {
        "id": "4xVOoxexd6Fk"
      },
      "execution_count": null,
      "outputs": []
    },
    {
      "cell_type": "markdown",
      "source": [
        "5. Peça um programa que o usuário deve digitar um número par e caso seja digitado um número ímpar, o programa deve repetir o pedido. Quando o número par for digitado, exiba a seguinte mensagem: Tarefa concluída."
      ],
      "metadata": {
        "id": "NExePpMuiOk6"
      }
    },
    {
      "cell_type": "code",
      "source": [
        "\"\"\"\n",
        "5. Peça um programa que o usuário deve digitar um número par e caso seja digitado um número ímpar, o programa deve repetir o pedido. Quando o número par for digitado, exiba a seguinte mensagem: Tarefa concluída.\n",
        "\"\"\"\n",
        "\n",
        "num = 1\n",
        "\n",
        "while num % 2 != 0:\n",
        "  num = int(input('Digite um número PAR:'))\n",
        "\n",
        "print('Tarefa concluída')"
      ],
      "metadata": {
        "id": "4IrgZ5rviPkr"
      },
      "execution_count": null,
      "outputs": []
    },
    {
      "cell_type": "markdown",
      "source": [
        "6. Escreva um programa que liste todos os números de -100 a 100 (com os extremos incluídos) e que todo múltiplo de 3 e 4 seja substituído pela palavra Aqui."
      ],
      "metadata": {
        "id": "G8YUkwIRir4B"
      }
    },
    {
      "cell_type": "code",
      "source": [
        "\"\"\"\n",
        "6. Escreva um programa que liste todos os números de -100 a 100 (com os extremos incluídos) e que todo múltiplo de 3 e 4 seja substituído pela palavra Aqui.\n",
        "\"\"\"\n",
        "\n",
        "for i in range(-100,101):\n",
        "  if i % 3 == 0 or i % 4 == 0:\n",
        "    print('Aqui', end=' ')\n",
        "  else:\n",
        "    print(i,end=' ')"
      ],
      "metadata": {
        "colab": {
          "base_uri": "https://localhost:8080/"
        },
        "id": "_XmbuyRmitJT",
        "outputId": "a2bb08bb-8155-44bb-fc02-0287ccdbd35a"
      },
      "execution_count": null,
      "outputs": [
        {
          "output_type": "stream",
          "name": "stdout",
          "text": [
            "Aqui Aqui -98 -97 Aqui -95 -94 Aqui Aqui -91 Aqui -89 Aqui Aqui -86 -85 Aqui -83 -82 Aqui Aqui -79 Aqui -77 Aqui Aqui -74 -73 Aqui -71 -70 Aqui Aqui -67 Aqui -65 Aqui Aqui -62 -61 Aqui -59 -58 Aqui Aqui -55 Aqui -53 Aqui Aqui -50 -49 Aqui -47 -46 Aqui Aqui -43 Aqui -41 Aqui Aqui -38 -37 Aqui -35 -34 Aqui Aqui -31 Aqui -29 Aqui Aqui -26 -25 Aqui -23 -22 Aqui Aqui -19 Aqui -17 Aqui Aqui -14 -13 Aqui -11 -10 Aqui Aqui -7 Aqui -5 Aqui Aqui -2 -1 Aqui 1 2 Aqui Aqui 5 Aqui 7 Aqui Aqui 10 11 Aqui 13 14 Aqui Aqui 17 Aqui 19 Aqui Aqui 22 23 Aqui 25 26 Aqui Aqui 29 Aqui 31 Aqui Aqui 34 35 Aqui 37 38 Aqui Aqui 41 Aqui 43 Aqui Aqui 46 47 Aqui 49 50 Aqui Aqui 53 Aqui 55 Aqui Aqui 58 59 Aqui 61 62 Aqui Aqui 65 Aqui 67 Aqui Aqui 70 71 Aqui 73 74 Aqui Aqui 77 Aqui 79 Aqui Aqui 82 83 Aqui 85 86 Aqui Aqui 89 Aqui 91 Aqui Aqui 94 95 Aqui 97 98 Aqui Aqui "
          ]
        }
      ]
    },
    {
      "cell_type": "markdown",
      "source": [
        "7. Escreva um programa que inverta uma palavra. Por exemplo, caso a entrada seja Casa a saída deve ser asaC"
      ],
      "metadata": {
        "id": "jCypf3l8kCc-"
      }
    },
    {
      "cell_type": "code",
      "source": [
        "\"\"\"\n",
        "7. Escreva um programa que inverta uma palavra. Por exemplo, caso a entrada seja Casa a saída deve ser asaC\n",
        "\"\"\"\n",
        "\n",
        "palavra = input('Insira a palavra: ').strip().lower()\n",
        "palavra_inv = []\n",
        "\n",
        "for i in range(len(palavra)):\n",
        "  palavra_inv.append(palavra[len(palavra)-1-i]) # Cria lista de caracteres invertidos \n",
        "\n",
        "palavra_inv = \"\".join(palavra_inv) # Transforma a lista em string\n",
        "\n",
        "\n",
        "print(palavra_inv)"
      ],
      "metadata": {
        "id": "tu4Wg2YdkKJ4"
      },
      "execution_count": null,
      "outputs": []
    },
    {
      "cell_type": "markdown",
      "source": [
        "8. Escreva um programa que desenhe o seguinte padrão:\n",
        "`* ** *** **** ***** ****** ******* ******** ********* ********** *********** ************ *************`"
      ],
      "metadata": {
        "id": "PMo4AZXok6bS"
      }
    },
    {
      "cell_type": "code",
      "source": [
        "\"\"\"\n",
        "8. Escreva um programa que desenhe o seguinte padrão:\n",
        "* ** *** **** ***** ****** ******* ******** ********* ********** *********** ************ *************\n",
        "\"\"\"\n",
        "\n",
        "for i in range(0,13): # 13 repetições para formar o desenho\n",
        "  print('*'*(i+1), end = ' ')"
      ],
      "metadata": {
        "id": "ZnfTsJAek8gy"
      },
      "execution_count": null,
      "outputs": []
    },
    {
      "cell_type": "markdown",
      "source": [
        "9. Escreva um programa que dê a tabuada dos números de 1 a 10."
      ],
      "metadata": {
        "id": "OmopzF1lliuN"
      }
    },
    {
      "cell_type": "code",
      "source": [
        "\"\"\"\n",
        "9. Escreva um programa que dê a tabuada dos números de 1 a 10.\n",
        "\"\"\"\n",
        "\n",
        "for i in range(0,11): # Percorre de 0 até 10\n",
        "  print('\\n')\n",
        "  for j in range(0,11): # Percorre de 0 a 10, realizando a multiplicação\n",
        "    print(f'{i} * {j} = {i*j}')"
      ],
      "metadata": {
        "id": "IJGlC5rblmL8"
      },
      "execution_count": null,
      "outputs": []
    },
    {
      "cell_type": "markdown",
      "source": [
        "10. Escreva um programa que dado um número de 3 dígitos, a soma do cubo de cada dígito é igual ao próprio número. Por exemplo `1³ + 5³ + 3³ = 153.`\n",
        "\n",
        "11. Escreva um programa que dado um número de 4 dígitos, a soma dos dígitos após serem elevados à quarta potência totalizará o próprio número.\n",
        "Por exemplo `1634 = 1 ** 4 + 6 ** 4 + 3 ** 4 + 4 ** 4`\n",
        "\n",
        "12. Escreva um programa que dado um número de 5 dígitos, a soma dos dígitos após serem elevados à quinta potência totalizará o próprio número.\n",
        "Por exemplo `54748 = 5 ** 5 + 4 ** 5 + 7 ** 5 + 4 ** 5 + 8 ** 5`\n",
        "\n",
        "e da aula 15b\n",
        "\n",
        "1. Retome o exercício do Code Lab anterior sobre números com 3, 4 e 5 dígitos, quando cada dígito é elevado a alguma potência e depois todos são somados, eles resultam no próprio número. Agora é a hora de generalizar o exercício. Crie uma programa que dado um valor \"n\" oferecido pelo usuário (n>=1), o programa exibe todos os números com \"n\" dígitos, que os dígitos elevados a \"n\" e depois somados resultam no próprio valor.\n",
        "Você pode começar criando uma função que recebe o valor \"n\" do usuário e ela prepara o menor valor e o maior valor para a função percorrer. Por exemplo, se n=3, então a função define que o menorNum = 100 e o maiorNum = 999, para isso basta utilizar as potências de 10 elevado a n-1 (para menorNum) e n (para maiorNum)."
      ],
      "metadata": {
        "id": "hEOi1f6Ql-jt"
      }
    },
    {
      "cell_type": "code",
      "source": [
        "\"\"\"\n",
        "10. Escreva um programa que dado um número de 3 dígitos, a soma do cubo de cada dígito é igual ao próprio número. Por exemplo 1³ + 5³ + 3³ = 153.\n",
        "\"\"\"\n",
        "num = int(input('Quantos digitos seu numero possui? '))\n",
        "while num < 1:\n",
        "  num = int(input('Entrada invalida, nova entrada: '))\n",
        "max_num = 10**num       # Numero máximo + 1 (+1 não importa pois a função range não passa por ele)com o numero de digitos\n",
        "min_num = 10**(num - 1) # Numero minimo com o nº de digitos\n",
        "digitos = []\n",
        "\n",
        "for i in range(min_num,max_num):\n",
        "  digitos = [int(a) for a in str(i)] # Monta uma lista com os digitos de i\n",
        "  soma = 0\n",
        "  for j in digitos:\n",
        "    soma += j ** num # Soma os cubos dos digitos de i\n",
        "  if i == soma: # Compara a soma ao próprio i para verificar a condição\n",
        "    print(f\"{i} obedece a condição estabelecida\")"
      ],
      "metadata": {
        "colab": {
          "base_uri": "https://localhost:8080/"
        },
        "id": "kSbtrM1EmCAZ",
        "outputId": "0ce30d50-7b1a-4fd5-b7f8-1dfd3043a388"
      },
      "execution_count": 95,
      "outputs": [
        {
          "output_type": "stream",
          "name": "stdout",
          "text": [
            "Quantos digitos seu numero possui? 6\n",
            "548834 obedece a condição estabelecida\n"
          ]
        }
      ]
    }
  ]
}